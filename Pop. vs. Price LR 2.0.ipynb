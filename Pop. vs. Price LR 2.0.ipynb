{
 "cells": [
  {
   "cell_type": "markdown",
   "metadata": {},
   "source": [
    "# Population vs. Median Home Prices\n",
    "#### *Linear Regression with Single Variable*"
   ]
  },
  {
   "cell_type": "markdown",
   "metadata": {},
   "source": [
    "*Note, this notebook requires Spark 2.0+*"
   ]
  },
  {
   "cell_type": "code",
   "execution_count": 1,
   "metadata": {},
   "outputs": [
    {
     "name": "stderr",
     "output_type": "stream",
     "text": [
      "/Users/Celestial/anaconda/lib/python2.7/site-packages/ggplot/utils.py:81: FutureWarning: pandas.tslib is deprecated and will be removed in a future version.\n",
      "You can access Timestamp as pandas.Timestamp\n",
      "  pd.tslib.Timestamp,\n",
      "/Users/Celestial/anaconda/lib/python2.7/site-packages/ggplot/stats/smoothers.py:4: FutureWarning: The pandas.lib module is deprecated and will be removed in a future version. These are private functions and can be accessed from pandas._libs.lib instead\n",
      "  from pandas.lib import Timestamp\n",
      "/Users/Celestial/anaconda/lib/python2.7/site-packages/statsmodels/compat/pandas.py:56: FutureWarning: The pandas.core.datetools module is deprecated and will be removed in a future version. Please use the pandas.tseries module instead.\n",
      "  from pandas.core import datetools\n"
     ]
    }
   ],
   "source": [
    "import os\n",
    "import sys\n",
    "import findspark\n",
    "findspark.init('/home/jovyan/base/spark-2.2.0-bin-hadoop2.7')\n",
    "# You can delete these 2 lines above if you have already modified your pythonpath\n",
    "from pyspark import SparkFiles\n",
    "from pyspark import SparkContext\n",
    "from pyspark.sql.session import SparkSession\n",
    "sc =SparkContext()\n",
    "spark = SparkSession(sc)\n",
    "import pandas as pd\n",
    "from ggplot import *"
   ]
  },
  {
   "cell_type": "markdown",
   "metadata": {},
   "source": [
    "### Load and parse the data"
   ]
  },
  {
   "cell_type": "code",
   "execution_count": 3,
   "metadata": {},
   "outputs": [
    {
     "data": {
      "text/plain": [
       "294"
      ]
     },
     "execution_count": 3,
     "metadata": {},
     "output_type": "execute_result"
    }
   ],
   "source": [
    "# Use the Spark CSV datasource with options specifying:\n",
    "#  - First line of file is a header\n",
    "#  - Automatically infer the schema of the data\n",
    "#  - Note that we're using `spark` instead of `sqlContext` now.\n",
    "data = spark.read.format(\"com.databricks.spark.csv\")\\\n",
    "  .option(\"header\", \"true\")\\\n",
    "  .option(\"inferSchema\", \"true\")\\\n",
    "  .load(\"export.csv\") #Load the data set\n",
    "data.cache()  # Cache data for faster reuse\n",
    "data.count()"
   ]
  },
  {
   "cell_type": "code",
   "execution_count": 4,
   "metadata": {},
   "outputs": [
    {
     "data": {
      "text/html": [
       "<div>\n",
       "<style>\n",
       "    .dataframe thead tr:only-child th {\n",
       "        text-align: right;\n",
       "    }\n",
       "\n",
       "    .dataframe thead th {\n",
       "        text-align: left;\n",
       "    }\n",
       "\n",
       "    .dataframe tbody tr th {\n",
       "        vertical-align: top;\n",
       "    }\n",
       "</style>\n",
       "<table border=\"1\" class=\"dataframe\">\n",
       "  <thead>\n",
       "    <tr style=\"text-align: right;\">\n",
       "      <th></th>\n",
       "      <th>2014 rank</th>\n",
       "      <th>City</th>\n",
       "      <th>State</th>\n",
       "      <th>State Code</th>\n",
       "      <th>2014 Population estimate</th>\n",
       "      <th>2015 median sales price</th>\n",
       "    </tr>\n",
       "  </thead>\n",
       "  <tbody>\n",
       "    <tr>\n",
       "      <th>0</th>\n",
       "      <td>101</td>\n",
       "      <td>Birmingham</td>\n",
       "      <td>Alabama</td>\n",
       "      <td>AL</td>\n",
       "      <td>212247</td>\n",
       "      <td>162.9</td>\n",
       "    </tr>\n",
       "    <tr>\n",
       "      <th>1</th>\n",
       "      <td>125</td>\n",
       "      <td>Huntsville</td>\n",
       "      <td>Alabama</td>\n",
       "      <td>AL</td>\n",
       "      <td>188226</td>\n",
       "      <td>157.7</td>\n",
       "    </tr>\n",
       "    <tr>\n",
       "      <th>2</th>\n",
       "      <td>122</td>\n",
       "      <td>Mobile</td>\n",
       "      <td>Alabama</td>\n",
       "      <td>AL</td>\n",
       "      <td>194675</td>\n",
       "      <td>122.5</td>\n",
       "    </tr>\n",
       "    <tr>\n",
       "      <th>3</th>\n",
       "      <td>114</td>\n",
       "      <td>Montgomery</td>\n",
       "      <td>Alabama</td>\n",
       "      <td>AL</td>\n",
       "      <td>200481</td>\n",
       "      <td>129</td>\n",
       "    </tr>\n",
       "    <tr>\n",
       "      <th>4</th>\n",
       "      <td>64</td>\n",
       "      <td>Anchorage[19]</td>\n",
       "      <td>Alaska</td>\n",
       "      <td>AK</td>\n",
       "      <td>301010</td>\n",
       "      <td>null</td>\n",
       "    </tr>\n",
       "  </tbody>\n",
       "</table>\n",
       "</div>"
      ],
      "text/plain": [
       "   2014 rank           City    State State Code 2014 Population estimate  \\\n",
       "0        101     Birmingham  Alabama         AL                   212247   \n",
       "1        125     Huntsville  Alabama         AL                   188226   \n",
       "2        122         Mobile  Alabama         AL                   194675   \n",
       "3        114     Montgomery  Alabama         AL                   200481   \n",
       "4         64  Anchorage[19]   Alaska         AK                   301010   \n",
       "\n",
       "  2015 median sales price  \n",
       "0                   162.9  \n",
       "1                   157.7  \n",
       "2                   122.5  \n",
       "3                     129  \n",
       "4                    null  "
      ]
     },
     "execution_count": 4,
     "metadata": {},
     "output_type": "execute_result"
    }
   ],
   "source": [
    "from IPython.display import display, HTML\n",
    "pd = data.toPandas()\n",
    "pd.head()"
   ]
  },
  {
   "cell_type": "code",
   "execution_count": 5,
   "metadata": {},
   "outputs": [
    {
     "data": {
      "text/plain": [
       "294"
      ]
     },
     "execution_count": 5,
     "metadata": {},
     "output_type": "execute_result"
    }
   ],
   "source": [
    "data = data.dropna()  # drop rows with missing values\n",
    "data.count()"
   ]
  },
  {
   "cell_type": "code",
   "execution_count": 6,
   "metadata": {
    "collapsed": true
   },
   "outputs": [],
   "source": [
    "# This will let us access the table from our SQL notebook!\n",
    "#  Note - we're using `createOrReplaceTempView` instead of `registerTempTable`\n",
    "data.createOrReplaceTempView(\"data_geo\")"
   ]
  },
  {
   "cell_type": "markdown",
   "metadata": {},
   "source": [
    "## Limit data to Population vs. Price\n",
    "(for our ML example)\n",
    "\n",
    "We also use VectorAssembler to put this together"
   ]
  },
  {
   "cell_type": "code",
   "execution_count": 7,
   "metadata": {},
   "outputs": [
    {
     "name": "stdout",
     "output_type": "stream",
     "text": [
      "+----------+-----+\n",
      "|Population|label|\n",
      "+----------+-----+\n",
      "|  212247.0|162.9|\n",
      "|  188226.0|157.7|\n",
      "|  194675.0|122.5|\n",
      "|  200481.0|129.0|\n",
      "| 1537058.0|206.1|\n",
      "|  527972.0|178.1|\n",
      "|  197706.0|131.8|\n",
      "|  346997.0|685.7|\n",
      "| 3928864.0|434.7|\n",
      "|  319504.0|281.0|\n",
      "|  485199.0|275.8|\n",
      "| 1381069.0|510.3|\n",
      "|  852469.0|748.3|\n",
      "| 1015785.0|900.0|\n",
      "|  105112.0|442.2|\n",
      "|  445830.0|220.1|\n",
      "|  663862.0|338.1|\n",
      "|  147612.0|342.7|\n",
      "|  124705.0|202.6|\n",
      "|  130282.0|205.1|\n",
      "+----------+-----+\n",
      "only showing top 20 rows\n",
      "\n"
     ]
    }
   ],
   "source": [
    "from pyspark.sql.types import DoubleType\n",
    "\n",
    "# Create DataFrame with just the data we want to run linear regression\n",
    "df = spark.sql(\"select `2014 Population estimate` as Population, `2015 median sales price` as label from data_geo\")\n",
    "pd = df.toPandas()\n",
    "# Drop rows == 'null'\n",
    "df = df[df.label !=\"null\"]\n",
    "df = df.withColumn(\"Population\", \n",
    "                     df.Population.cast(DoubleType()))\n",
    "df = df.withColumn(\"label\", \n",
    "                     df.label.cast(DoubleType()))\n",
    "df.show()"
   ]
  },
  {
   "cell_type": "code",
   "execution_count": 8,
   "metadata": {},
   "outputs": [
    {
     "data": {
      "text/plain": [
       "DataFrame[features: vector, label: double]"
      ]
     },
     "metadata": {},
     "output_type": "display_data"
    }
   ],
   "source": [
    "from pyspark.ml.linalg import Vectors\n",
    "from pyspark.ml.feature import VectorAssembler\n",
    "\n",
    "assembler = VectorAssembler(\n",
    "    inputCols=[\"Population\"],\n",
    "    outputCol=\"features\")\n",
    "output = assembler.transform(df)\n",
    "display(output.select(\"features\", \"label\"))"
   ]
  },
  {
   "cell_type": "markdown",
   "metadata": {},
   "source": [
    "## Linear Regression\n",
    "\n",
    "**Goal**\n",
    "* Predict y = 2015 Median Housing Price\n",
    "* Using feature x = 2014 Population Estimate\n",
    "\n",
    "**References**\n",
    "* [MLlib LinearRegression user guide](http://spark.apache.org/docs/latest/ml-classification-regression.html#linear-regression)\n",
    "* [PySpark LinearRegression API](http://spark.apache.org/docs/latest/api/python/pyspark.ml.html#pyspark.ml.regression.LinearRegression)"
   ]
  },
  {
   "cell_type": "code",
   "execution_count": 9,
   "metadata": {
    "collapsed": true
   },
   "outputs": [],
   "source": [
    "# Import LinearRegression class\n",
    "from pyspark.ml.regression import LinearRegression\n",
    "\n",
    "# Define LinearRegression algorithm\n",
    "lr = LinearRegression()\n",
    "\n",
    "# Fit 2 models, using different regularization parameters\n",
    "modelA = lr.fit(output, {lr.regParam:0.0})\n",
    "modelB = lr.fit(output, {lr.regParam:100.0})"
   ]
  },
  {
   "cell_type": "markdown",
   "metadata": {},
   "source": [
    "## Make predictions\n",
    "\n",
    "Calling `transform()` on data adds a new column of predictions."
   ]
  },
  {
   "cell_type": "code",
   "execution_count": 10,
   "metadata": {},
   "outputs": [
    {
     "name": "stdout",
     "output_type": "stream",
     "text": [
      "+----------+-----+-----------+------------------+\n",
      "|Population|label|   features|        prediction|\n",
      "+----------+-----+-----------+------------------+\n",
      "|  212247.0|162.9| [212247.0]| 199.3167659584664|\n",
      "|  188226.0|157.7| [188226.0]|198.40882267887193|\n",
      "|  194675.0|122.5| [194675.0]|198.65258131548592|\n",
      "|  200481.0|129.0| [200481.0]|198.87203590444247|\n",
      "| 1537058.0|206.1|[1537058.0]|249.39183544694856|\n",
      "|  527972.0|178.1| [527972.0]|211.25050693302884|\n",
      "|  197706.0|131.8| [197706.0]| 198.7671467407576|\n",
      "|  346997.0|685.7| [346997.0]| 204.4100325554172|\n",
      "| 3928864.0|434.7|[3928864.0]|339.79707185649573|\n",
      "|  319504.0|281.0| [319504.0]|203.37085497805194|\n",
      "|  485199.0|275.8| [485199.0]|209.63377749220228|\n",
      "| 1381069.0|510.3|[1381069.0]|243.49577931936597|\n",
      "|  852469.0|748.3| [852469.0]|223.51581105852597|\n",
      "| 1015785.0|900.0|[1015785.0]| 229.6888123761335|\n",
      "|  105112.0|442.2| [105112.0]|195.26728828229332|\n",
      "|  445830.0|220.1| [445830.0]|208.14571209216254|\n",
      "|  663862.0|338.1| [663862.0]| 216.3868631323583|\n",
      "|  147612.0|342.7| [147612.0]|196.87369889728708|\n",
      "|  124705.0|202.6| [124705.0]|196.00786247475386|\n",
      "|  130282.0|205.1| [130282.0]|196.21866134533786|\n",
      "+----------+-----+-----------+------------------+\n",
      "only showing top 20 rows\n",
      "\n"
     ]
    },
    {
     "data": {
      "text/plain": [
       "None"
      ]
     },
     "metadata": {},
     "output_type": "display_data"
    }
   ],
   "source": [
    "# Make predictions\n",
    "predictionsA = modelA.transform(output)\n",
    "display(predictionsA.show())"
   ]
  },
  {
   "cell_type": "markdown",
   "metadata": {},
   "source": [
    "## Evaluate the Model\n",
    "#### Predicted vs. True label"
   ]
  },
  {
   "cell_type": "code",
   "execution_count": 11,
   "metadata": {},
   "outputs": [
    {
     "name": "stdout",
     "output_type": "stream",
     "text": [
      "ModelA: Root Mean Squared Error = 128.602026843\n"
     ]
    }
   ],
   "source": [
    "from pyspark.ml.evaluation import RegressionEvaluator\n",
    "evaluator = RegressionEvaluator(metricName=\"rmse\")\n",
    "RMSE = evaluator.evaluate(predictionsA)\n",
    "print(\"ModelA: Root Mean Squared Error = \" + str(RMSE))"
   ]
  },
  {
   "cell_type": "code",
   "execution_count": 12,
   "metadata": {},
   "outputs": [
    {
     "name": "stdout",
     "output_type": "stream",
     "text": [
      "ModelB: Root Mean Squared Error = 129.496300193\n"
     ]
    }
   ],
   "source": [
    "predictionsB = modelB.transform(output)\n",
    "RMSE = evaluator.evaluate(predictionsB)\n",
    "print(\"ModelB: Root Mean Squared Error = \" + str(RMSE))"
   ]
  },
  {
   "cell_type": "markdown",
   "metadata": {},
   "source": [
    "# Linear Regression Plots"
   ]
  },
  {
   "cell_type": "code",
   "execution_count": 14,
   "metadata": {
    "collapsed": true
   },
   "outputs": [],
   "source": [
    "import numpy as np\n",
    "from pandas import *\n",
    "\n",
    "pop = output.rdd.map(lambda p: (p.features[0])).collect()\n",
    "price = output.rdd.map(lambda p: (p.label)).collect()\n",
    "predA = predictionsA.select(\"prediction\").rdd.map(lambda r: r[0]).collect()\n",
    "predB = predictionsB.select(\"prediction\").rdd.map(lambda r: r[0]).collect()\n",
    "\n",
    "pydf = DataFrame({'pop':pop,'price':price,'predA':predA, 'predB':predB})"
   ]
  },
  {
   "cell_type": "markdown",
   "metadata": {},
   "source": [
    "## View the Python Pandas DataFrame (pydf)"
   ]
  },
  {
   "cell_type": "code",
   "execution_count": 15,
   "metadata": {},
   "outputs": [
    {
     "data": {
      "text/html": [
       "<div>\n",
       "<style>\n",
       "    .dataframe thead tr:only-child th {\n",
       "        text-align: right;\n",
       "    }\n",
       "\n",
       "    .dataframe thead th {\n",
       "        text-align: left;\n",
       "    }\n",
       "\n",
       "    .dataframe tbody tr th {\n",
       "        vertical-align: top;\n",
       "    }\n",
       "</style>\n",
       "<table border=\"1\" class=\"dataframe\">\n",
       "  <thead>\n",
       "    <tr style=\"text-align: right;\">\n",
       "      <th></th>\n",
       "      <th>pop</th>\n",
       "      <th>predA</th>\n",
       "      <th>predB</th>\n",
       "      <th>price</th>\n",
       "    </tr>\n",
       "  </thead>\n",
       "  <tbody>\n",
       "    <tr>\n",
       "      <th>0</th>\n",
       "      <td>212247.0</td>\n",
       "      <td>199.316766</td>\n",
       "      <td>204.436404</td>\n",
       "      <td>162.9</td>\n",
       "    </tr>\n",
       "    <tr>\n",
       "      <th>1</th>\n",
       "      <td>188226.0</td>\n",
       "      <td>198.408823</td>\n",
       "      <td>203.917466</td>\n",
       "      <td>157.7</td>\n",
       "    </tr>\n",
       "    <tr>\n",
       "      <th>2</th>\n",
       "      <td>194675.0</td>\n",
       "      <td>198.652581</td>\n",
       "      <td>204.056787</td>\n",
       "      <td>122.5</td>\n",
       "    </tr>\n",
       "    <tr>\n",
       "      <th>3</th>\n",
       "      <td>200481.0</td>\n",
       "      <td>198.872036</td>\n",
       "      <td>204.182217</td>\n",
       "      <td>129.0</td>\n",
       "    </tr>\n",
       "    <tr>\n",
       "      <th>4</th>\n",
       "      <td>1537058.0</td>\n",
       "      <td>249.391835</td>\n",
       "      <td>233.056957</td>\n",
       "      <td>206.1</td>\n",
       "    </tr>\n",
       "  </tbody>\n",
       "</table>\n",
       "</div>"
      ],
      "text/plain": [
       "         pop       predA       predB  price\n",
       "0   212247.0  199.316766  204.436404  162.9\n",
       "1   188226.0  198.408823  203.917466  157.7\n",
       "2   194675.0  198.652581  204.056787  122.5\n",
       "3   200481.0  198.872036  204.182217  129.0\n",
       "4  1537058.0  249.391835  233.056957  206.1"
      ]
     },
     "execution_count": 15,
     "metadata": {},
     "output_type": "execute_result"
    }
   ],
   "source": [
    "pydf.head()"
   ]
  },
  {
   "cell_type": "markdown",
   "metadata": {},
   "source": [
    "## Matplotlib figure\n",
    "Now that the Python Pandas DataFrame (pydf), use matplotlib and display the scatterplot and the two regression models"
   ]
  },
  {
   "cell_type": "code",
   "execution_count": 18,
   "metadata": {},
   "outputs": [
    {
     "name": "stdout",
     "output_type": "stream",
     "text": [
      "         pop       predA       predB  price\n",
      "0   212247.0  199.316766  204.436404  162.9\n",
      "1   188226.0  198.408823  203.917466  157.7\n",
      "2   194675.0  198.652581  204.056787  122.5\n",
      "3   200481.0  198.872036  204.182217  129.0\n",
      "4  1537058.0  249.391835  233.056957  206.1\n"
     ]
    },
    {
     "data": {
      "image/png": "[encoded data removed]",
      "text/plain": [
       "<matplotlib.figure.Figure at 0x10d7be390>"
      ]
     },
     "metadata": {},
     "output_type": "display_data"
    }
   ],
   "source": [
    "import matplotlib.pyplot as plt\n",
    "plt.figure(figsize=(20,10))\n",
    "print (pydf.head())\n",
    "plt.plot(pydf['pop'],pydf['price'],'.',markersize=15)\n",
    "plt.plot(pydf['pop'],pydf['predA'],'.',markersize=10)\n",
    "plt.plot(pydf['pop'],pydf['predB'],'.',markersize=10)\n",
    "plt.xscale('log')\n",
    "plt.yscale('log')\n",
    "\n",
    "plt.show()"
   ]
  }
 ],
 "metadata": {
  "kernelspec": {
   "display_name": "Python 2",
   "language": "python",
   "name": "python2"
  },
  "language_info": {
   "codemirror_mode": {
    "name": "ipython",
    "version": 2
   },
   "file_extension": ".py",
   "mimetype": "text/x-python",
   "name": "python",
   "nbconvert_exporter": "python",
   "pygments_lexer": "ipython2",
   "version": "2.7.13"
  },
  "name": "Pop. vs. Price LR 2.0",
  "notebookId": 3982704134197423
 },
 "nbformat": 4,
 "nbformat_minor": 1
}
